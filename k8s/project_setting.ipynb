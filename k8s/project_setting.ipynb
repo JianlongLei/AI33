{
 "cells": [
  {
   "cell_type": "markdown",
   "source": [
    "Gcloud setting needed. See https://cloud.google.com/sdk/docs/install-sdk"
   ],
   "metadata": {
    "collapsed": false
   },
   "id": "98f8647a38663dfb"
  },
  {
   "cell_type": "markdown",
   "source": [
    "List clusters"
   ],
   "metadata": {
    "collapsed": false
   },
   "id": "35cee403dd6736d0"
  },
  {
   "cell_type": "code",
   "outputs": [
    {
     "name": "stdout",
     "output_type": "stream",
     "text": [
      "NAME: lab-cluster\n",
      "LOCATION: europe-west4-a\n",
      "MASTER_VERSION: 1.27.3-gke.100\n",
      "MASTER_IP: 34.91.224.227\n",
      "MACHINE_TYPE: e2-medium\n",
      "NODE_VERSION: 1.27.3-gke.100\n",
      "NUM_NODES: 3\n",
      "STATUS: RUNNING\n"
     ]
    }
   ],
   "source": [
    "! gcloud container clusters list"
   ],
   "metadata": {
    "collapsed": false,
    "ExecuteTime": {
     "end_time": "2024-02-04T17:18:33.434632Z",
     "start_time": "2024-02-04T17:18:32.093443200Z"
    }
   },
   "id": "671538b0caf7a063",
   "execution_count": 1
  },
  {
   "cell_type": "markdown",
   "source": [
    "Connect google cloud to local kubectl CLI. Replace your cluster name with lab-cluster"
   ],
   "metadata": {
    "collapsed": false
   },
   "id": "6ddd13e09b1625ac"
  },
  {
   "cell_type": "code",
   "outputs": [
    {
     "name": "stderr",
     "output_type": "stream",
     "text": [
      "Fetching cluster endpoint and auth data.\n",
      "kubeconfig entry generated for lab-cluster.\n"
     ]
    }
   ],
   "source": [
    "! gcloud container clusters get-credentials lab-cluster"
   ],
   "metadata": {
    "collapsed": false,
    "ExecuteTime": {
     "end_time": "2024-02-04T17:19:36.396510900Z",
     "start_time": "2024-02-04T17:19:35.355751900Z"
    }
   },
   "id": "f30faabfbd852b3d",
   "execution_count": 3
  },
  {
   "cell_type": "markdown",
   "source": [
    "Enable the Filestore CSI"
   ],
   "metadata": {
    "collapsed": false
   },
   "id": "9bb19bb833160425"
  },
  {
   "cell_type": "code",
   "execution_count": 4,
   "id": "initial_id",
   "metadata": {
    "collapsed": true,
    "ExecuteTime": {
     "end_time": "2024-02-04T17:19:56.520357300Z",
     "start_time": "2024-02-04T17:19:53.708629800Z"
    }
   },
   "outputs": [
    {
     "name": "stderr",
     "output_type": "stream",
     "text": [
      "Updating lab-cluster...\n",
      "done.\n",
      "Updated [https://container.googleapis.com/v1/projects/cryptic-dahlia-413216/zones/europe-west4-a/clusters/lab-cluster].\n",
      "To inspect the contents of your cluster, go to: https://console.cloud.google.com/kubernetes/workload_/gcloud/europe-west4-a/lab-cluster?project=cryptic-dahlia-413216\n"
     ]
    }
   ],
   "source": [
    "! gcloud container clusters update lab-cluster --update-addons=GcpFilestoreCsiDriver=ENABLED"
   ]
  },
  {
   "cell_type": "markdown",
   "source": [
    "RBAC settings"
   ],
   "metadata": {
    "collapsed": false
   },
   "id": "8b60f6dbb88f269b"
  },
  {
   "cell_type": "code",
   "outputs": [
    {
     "name": "stdout",
     "output_type": "stream",
     "text": [
      "role.rbac.authorization.k8s.io/admin-role created\n",
      "role.rbac.authorization.k8s.io/reader-role created\n",
      "role.rbac.authorization.k8s.io/editor-role created\n",
      "serviceaccount/admin-service-account unchanged\n",
      "rolebinding.rbac.authorization.k8s.io/app-role-binding created\n",
      "rolebinding.rbac.authorization.k8s.io/user created\n"
     ]
    }
   ],
   "source": [
    "! kubectl apply -f security\\admin-role.yaml\n",
    "! kubectl apply -f security\\reader-role.yaml\n",
    "! kubectl apply -f security\\editor-role.yaml\n",
    "   \n",
    "! kubectl apply -f security\\admin-serviceaccount.yaml\n",
    "! kubectl apply -f security\\rolebinding.yaml\n",
    "! kubectl apply -f security\\user-rolebinding.yaml"
   ],
   "metadata": {
    "collapsed": false,
    "ExecuteTime": {
     "end_time": "2024-02-04T17:20:07.065074200Z",
     "start_time": "2024-02-04T17:20:03.966084800Z"
    }
   },
   "id": "2e2397a49caf43de",
   "execution_count": 5
  },
  {
   "cell_type": "markdown",
   "source": [
    "Persistence storage claim"
   ],
   "metadata": {
    "collapsed": false
   },
   "id": "2d110f2c9cf8936e"
  },
  {
   "cell_type": "code",
   "outputs": [
    {
     "name": "stdout",
     "output_type": "stream",
     "text": [
      "persistentvolumeclaim/standard-pvc created\n"
     ]
    }
   ],
   "source": [
    "! kubectl apply -f gcloud\\gcloud-pvc.yaml"
   ],
   "metadata": {
    "collapsed": false,
    "ExecuteTime": {
     "end_time": "2024-02-04T17:20:13.466739Z",
     "start_time": "2024-02-04T17:20:13.142395400Z"
    }
   },
   "id": "39c3e2ff9c23b7f7",
   "execution_count": 6
  },
  {
   "cell_type": "markdown",
   "source": [
    "Network settings"
   ],
   "metadata": {
    "collapsed": false
   },
   "id": "c61fadf15e4eebb8"
  },
  {
   "cell_type": "code",
   "outputs": [
    {
     "name": "stdout",
     "output_type": "stream",
     "text": [
      "service/mongodb-service created\n",
      "service/backend-service unchanged\n",
      "service/service-loadbalancer unchanged\n",
      "service/webapp-loadbalancer unchanged\n"
     ]
    }
   ],
   "source": [
    "! kubectl apply -f db\\mongodb-service.yaml\n",
    "! kubectl apply -f backend\\backend-service.yaml\n",
    "! kubectl apply -f backend\\service-loadbalancer.yaml\n",
    "! kubectl apply -f app\\app-loadbalancer.yaml"
   ],
   "metadata": {
    "collapsed": false,
    "ExecuteTime": {
     "end_time": "2024-02-04T17:20:28.980638Z",
     "start_time": "2024-02-04T17:20:27.898410100Z"
    }
   },
   "id": "cd661187fcb4f974",
   "execution_count": 8
  },
  {
   "cell_type": "markdown",
   "source": [
    "Get network IPs. If EXTERNAL-IP is pending, please wait for a while and re-execute"
   ],
   "metadata": {
    "collapsed": false
   },
   "id": "ab157349d0696c83"
  },
  {
   "cell_type": "code",
   "outputs": [
    {
     "name": "stdout",
     "output_type": "stream",
     "text": [
      "NAME                   TYPE           CLUSTER-IP     EXTERNAL-IP     PORT(S)        AGE\n",
      "backend-service        ClusterIP      10.28.13.133   <none>          8000/TCP       49s\n",
      "kubernetes             ClusterIP      10.28.0.1      <none>          443/TCP        23h\n",
      "mongodb-service        ClusterIP      10.28.11.191   <none>          27017/TCP      41s\n",
      "service-loadbalancer   LoadBalancer   10.28.4.244    35.234.165.21   80:30344/TCP   49s\n",
      "webapp-loadbalancer    LoadBalancer   10.28.7.29     35.204.29.57    80:32146/TCP   48s\n"
     ]
    }
   ],
   "source": [
    "! kubectl get svc"
   ],
   "metadata": {
    "collapsed": false,
    "ExecuteTime": {
     "end_time": "2024-02-04T17:21:09.931301100Z",
     "start_time": "2024-02-04T17:21:09.498300500Z"
    }
   },
   "id": "328b47f0f2040c49",
   "execution_count": 10
  },
  {
   "cell_type": "markdown",
   "source": [
    "Put EXTERNAL-IP of service-loadbalancer to app\\configmap-app.yaml\n",
    "Put Cluster-IP of mongodb-service to backend\\backend-config.yaml\n",
    "```YAML\n",
    "# app\\configmap-app.yaml\n",
    "apiVersion: v1\n",
    "kind: ConfigMap\n",
    "metadata:\n",
    "  name: server-address\n",
    "data:\n",
    "#  put the EXTERNAL-IP of serviceloadbalancer here\n",
    "  SERVER_URL: \"http://35.234.165.21\"\n",
    "```\n",
    "\n",
    "```YAML\n",
    "# backend\\backend-service.yaml\n",
    "apiVersion: v1\n",
    "kind: ConfigMap\n",
    "metadata:\n",
    "  name: backend-config\n",
    "data:\n",
    "# put the CLUSTER-IP of mongodb-service here\n",
    "  MONGO_URL: \"10.28.11.191\"\n",
    "```"
   ],
   "metadata": {
    "collapsed": false
   },
   "id": "ae360258b364eb1b"
  },
  {
   "cell_type": "markdown",
   "source": [
    "Secret and configMap"
   ],
   "metadata": {
    "collapsed": false
   },
   "id": "bf3520aa8c27115b"
  },
  {
   "cell_type": "code",
   "outputs": [
    {
     "name": "stdout",
     "output_type": "stream",
     "text": [
      "secret/webapp-registry-secret created\n",
      "configmap/server-address created\n",
      "secret/backend-secret created\n",
      "configmap/backend-config created\n",
      "secret/mongodb-secret created\n",
      "configmap/mongodb-config created\n"
     ]
    }
   ],
   "source": [
    "! kubectl apply -f app\\app-secret.yaml\n",
    "! kubectl apply -f app\\configmap-app.yaml\n",
    "! kubectl apply -f backend\\backend-secret.yaml\n",
    "! kubectl apply -f backend\\backend-config.yaml\n",
    "! kubectl apply -f db\\mongodb-secret.yaml\n",
    "! kubectl apply -f db\\mongodb-configmap.yaml"
   ],
   "metadata": {
    "collapsed": false,
    "ExecuteTime": {
     "end_time": "2024-02-04T17:32:26.676220Z",
     "start_time": "2024-02-04T17:32:25.068892300Z"
    }
   },
   "id": "7352c8543f512b32",
   "execution_count": 11
  },
  {
   "cell_type": "markdown",
   "source": [
    "Deploy database"
   ],
   "metadata": {
    "collapsed": false
   },
   "id": "28c55e73b800dabc"
  },
  {
   "cell_type": "code",
   "outputs": [
    {
     "name": "stdout",
     "output_type": "stream",
     "text": [
      "deployment.apps/mongodb-deployment created\n"
     ]
    }
   ],
   "source": [
    "! kubectl apply -f db\\mongodb-deployment.yaml"
   ],
   "metadata": {
    "collapsed": false,
    "ExecuteTime": {
     "end_time": "2024-02-04T17:33:59.996862900Z",
     "start_time": "2024-02-04T17:33:59.491781300Z"
    }
   },
   "id": "be491e66adeb04",
   "execution_count": 13
  },
  {
   "cell_type": "markdown",
   "source": [
    "Set user/data to mongodb"
   ],
   "metadata": {
    "collapsed": false
   },
   "id": "ec6ff70fb5716575"
  },
  {
   "cell_type": "code",
   "outputs": [
    {
     "name": "stdout",
     "output_type": "stream",
     "text": [
      "NAME                                  READY   STATUS    RESTARTS   AGE\n",
      "mongodb-deployment-5b8bf7fbdf-xp8zw   1/1     Running   0          98s\n"
     ]
    }
   ],
   "source": [
    "! kubectl get pods"
   ],
   "metadata": {
    "collapsed": false,
    "ExecuteTime": {
     "end_time": "2024-02-04T17:35:38.670582300Z",
     "start_time": "2024-02-04T17:35:38.459134600Z"
    }
   },
   "id": "43596ee6a09e568b",
   "execution_count": 15
  },
  {
   "cell_type": "markdown",
   "source": [
    "When the pod is running, go inside the pod and create database, set user and pass. The settings will be stored within persistence volume, so after manipulate pods, they remains."
   ],
   "metadata": {
    "collapsed": false
   },
   "id": "a4140c4bf3044bad"
  },
  {
   "cell_type": "markdown",
   "source": [
    "```BASE\n",
    "kubectl exec -it mongodb-deployment-5b8bf7fbdf-xp8zw -- bash\n",
    "```"
   ],
   "metadata": {
    "collapsed": false
   },
   "id": "3120148d85d5f4b3"
  },
  {
   "cell_type": "markdown",
   "source": [
    "```BASH\n",
    "mongosh\n",
    "```"
   ],
   "metadata": {
    "collapsed": false
   },
   "id": "249538d1cd4f1e91"
  },
  {
   "cell_type": "markdown",
   "source": [
    "```javascript\n",
    "use admin\n",
    "```\n",
    "```javascript\n",
    "db.createUser({\n",
    "  user: \"admin\",\n",
    "  pwd: \"pass\",\n",
    "  roles: [\"userAdminAnyDatabase\", \"readWriteAnyDatabase\"]\n",
    "})\n",
    "```\n",
    "```javascript\n",
    "db.auth(\"admin\", \"pass\")\n",
    "```"
   ],
   "metadata": {
    "collapsed": false
   },
   "id": "1d693b5c70a7d1aa"
  },
  {
   "cell_type": "markdown",
   "source": [
    "Deploy frontend and backend."
   ],
   "metadata": {
    "collapsed": false
   },
   "id": "443943da9402d560"
  },
  {
   "cell_type": "code",
   "outputs": [
    {
     "name": "stdout",
     "output_type": "stream",
     "text": [
      "deployment.apps/webapp-deployment created\n",
      "service/webapp-service created\n",
      "deployment.apps/backend-deployment created\n"
     ]
    }
   ],
   "source": [
    "! kubectl apply -f app\\app-deployment.yaml\n",
    "! kubectl apply -f backend\\backend-deployment.yaml"
   ],
   "metadata": {
    "collapsed": false,
    "ExecuteTime": {
     "end_time": "2024-02-04T17:43:06.290984300Z",
     "start_time": "2024-02-04T17:43:05.618067300Z"
    }
   },
   "id": "8360797f3a3b9e4f",
   "execution_count": 19
  },
  {
   "cell_type": "markdown",
   "source": [
    "Show services, get the EXTERNAL-IP of webapp-loadbalancer, open it on web."
   ],
   "metadata": {
    "collapsed": false
   },
   "id": "9313f1020d73c419"
  },
  {
   "cell_type": "code",
   "outputs": [
    {
     "name": "stdout",
     "output_type": "stream",
     "text": [
      "NAME                   TYPE           CLUSTER-IP     EXTERNAL-IP     PORT(S)          AGE\n",
      "backend-service        ClusterIP      10.28.13.133   <none>          8000/TCP         27m\n",
      "kubernetes             ClusterIP      10.28.0.1      <none>          443/TCP          24h\n",
      "mongodb-service        ClusterIP      10.28.11.191   <none>          27017/TCP        27m\n",
      "service-loadbalancer   LoadBalancer   10.28.4.244    35.234.165.21   80:30344/TCP     27m\n",
      "webapp-loadbalancer    LoadBalancer   10.28.7.29     35.204.29.57    80:32146/TCP     27m\n",
      "webapp-service         NodePort       10.28.2.226    <none>          5000:30100/TCP   4m47s\n"
     ]
    }
   ],
   "source": [
    "! kubectl get svc"
   ],
   "metadata": {
    "collapsed": false,
    "ExecuteTime": {
     "end_time": "2024-02-04T17:47:53.127212700Z",
     "start_time": "2024-02-04T17:47:52.948959600Z"
    }
   },
   "id": "cb3e6bc29f11f60c",
   "execution_count": 20
  },
  {
   "cell_type": "code",
   "outputs": [],
   "source": [],
   "metadata": {
    "collapsed": false
   },
   "id": "1f24f0ec6820834"
  }
 ],
 "metadata": {
  "kernelspec": {
   "display_name": "Python 3",
   "language": "python",
   "name": "python3"
  },
  "language_info": {
   "codemirror_mode": {
    "name": "ipython",
    "version": 2
   },
   "file_extension": ".py",
   "mimetype": "text/x-python",
   "name": "python",
   "nbconvert_exporter": "python",
   "pygments_lexer": "ipython2",
   "version": "2.7.6"
  }
 },
 "nbformat": 4,
 "nbformat_minor": 5
}
