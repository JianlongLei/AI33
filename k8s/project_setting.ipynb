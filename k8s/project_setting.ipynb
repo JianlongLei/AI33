{
 "cells": [
  {
   "cell_type": "markdown",
   "source": [
    "Gcloud setting needed. See https://cloud.google.com/sdk/docs/install-sdk"
   ],
   "metadata": {
    "collapsed": false
   },
   "id": "98f8647a38663dfb"
  },
  {
   "cell_type": "markdown",
   "source": [
    "List clusters"
   ],
   "metadata": {
    "collapsed": false
   },
   "id": "35cee403dd6736d0"
  },
  {
   "cell_type": "code",
   "outputs": [
    {
     "name": "stdout",
     "output_type": "stream",
     "text": [
      "NAME: lab-cluster\n",
      "LOCATION: europe-west4-a\n",
      "MASTER_VERSION: 1.27.3-gke.100\n",
      "MASTER_IP: 34.91.224.227\n",
      "MACHINE_TYPE: e2-medium\n",
      "NODE_VERSION: 1.27.3-gke.100\n",
      "NUM_NODES: 3\n",
      "STATUS: RUNNING\n"
     ]
    }
   ],
   "source": [
    "! gcloud container clusters list"
   ],
   "metadata": {
    "collapsed": false,
    "ExecuteTime": {
     "end_time": "2024-02-04T17:18:33.434632Z",
     "start_time": "2024-02-04T17:18:32.093443200Z"
    }
   },
   "id": "671538b0caf7a063",
   "execution_count": 1
  },
  {
   "cell_type": "markdown",
   "source": [
    "Connect google cloud to local kubectl CLI. Replace your cluster name with lab-cluster"
   ],
   "metadata": {
    "collapsed": false
   },
   "id": "6ddd13e09b1625ac"
  },
  {
   "cell_type": "code",
   "outputs": [
    {
     "name": "stderr",
     "output_type": "stream",
     "text": [
      "Fetching cluster endpoint and auth data.\n",
      "kubeconfig entry generated for lab-cluster.\n"
     ]
    }
   ],
   "source": [
    "! gcloud container clusters get-credentials lab-cluster"
   ],
   "metadata": {
    "collapsed": false,
    "ExecuteTime": {
     "end_time": "2024-02-04T17:19:36.396510900Z",
     "start_time": "2024-02-04T17:19:35.355751900Z"
    }
   },
   "id": "f30faabfbd852b3d",
   "execution_count": 3
  },
  {
   "cell_type": "markdown",
   "source": [
    "Enable the Filestore CSI"
   ],
   "metadata": {
    "collapsed": false
   },
   "id": "9bb19bb833160425"
  },
  {
   "cell_type": "code",
   "execution_count": 4,
   "id": "initial_id",
   "metadata": {
    "collapsed": true,
    "ExecuteTime": {
     "end_time": "2024-02-04T17:19:56.520357300Z",
     "start_time": "2024-02-04T17:19:53.708629800Z"
    }
   },
   "outputs": [
    {
     "name": "stderr",
     "output_type": "stream",
     "text": [
      "Updating lab-cluster...\n",
      "done.\n",
      "Updated [https://container.googleapis.com/v1/projects/cryptic-dahlia-413216/zones/europe-west4-a/clusters/lab-cluster].\n",
      "To inspect the contents of your cluster, go to: https://console.cloud.google.com/kubernetes/workload_/gcloud/europe-west4-a/lab-cluster?project=cryptic-dahlia-413216\n"
     ]
    }
   ],
   "source": [
    "! gcloud container clusters update lab-cluster --update-addons=GcpFilestoreCsiDriver=ENABLED"
   ]
  },
  {
   "cell_type": "markdown",
   "source": [
    "RBAC settings"
   ],
   "metadata": {
    "collapsed": false
   },
   "id": "8b60f6dbb88f269b"
  },
  {
   "cell_type": "code",
   "outputs": [
    {
     "name": "stdout",
     "output_type": "stream",
     "text": [
      "role.rbac.authorization.k8s.io/admin-role unchanged\n",
      "role.rbac.authorization.k8s.io/reader-role unchanged\n",
      "role.rbac.authorization.k8s.io/editor-role unchanged\n",
      "serviceaccount/admin-service-account unchanged\n",
      "rolebinding.rbac.authorization.k8s.io/app-role-binding unchanged\n",
      "rolebinding.rbac.authorization.k8s.io/user unchanged\n"
     ]
    }
   ],
   "source": [
    "! kubectl apply -f security\\admin-role.yaml\n",
    "! kubectl apply -f security\\reader-role.yaml\n",
    "! kubectl apply -f security\\editor-role.yaml\n",
    "   \n",
    "! kubectl apply -f security\\admin-serviceaccount.yaml\n",
    "! kubectl apply -f security\\rolebinding.yaml\n",
    "! kubectl apply -f security\\user-rolebinding.yaml"
   ],
   "metadata": {
    "collapsed": false,
    "ExecuteTime": {
     "end_time": "2024-02-04T21:58:03.833791Z",
     "start_time": "2024-02-04T21:58:00.879059100Z"
    }
   },
   "id": "2e2397a49caf43de",
   "execution_count": 38
  },
  {
   "cell_type": "markdown",
   "source": [
    "Persistence storage claim"
   ],
   "metadata": {
    "collapsed": false
   },
   "id": "2d110f2c9cf8936e"
  },
  {
   "cell_type": "code",
   "outputs": [
    {
     "name": "stdout",
     "output_type": "stream",
     "text": [
      "persistentvolumeclaim/standard-pvc unchanged\n"
     ]
    }
   ],
   "source": [
    "! kubectl apply -f gcloud\\gcloud-pvc.yaml"
   ],
   "metadata": {
    "collapsed": false,
    "ExecuteTime": {
     "end_time": "2024-02-04T21:58:06.117533700Z",
     "start_time": "2024-02-04T21:58:05.838771600Z"
    }
   },
   "id": "39c3e2ff9c23b7f7",
   "execution_count": 39
  },
  {
   "cell_type": "markdown",
   "source": [
    "Network settings"
   ],
   "metadata": {
    "collapsed": false
   },
   "id": "c61fadf15e4eebb8"
  },
  {
   "cell_type": "code",
   "outputs": [
    {
     "name": "stdout",
     "output_type": "stream",
     "text": [
      "service/mongodb-service created\n",
      "service/backend-service created\n",
      "service/service-loadbalancer created\n",
      "service/webapp-loadbalancer created\n"
     ]
    }
   ],
   "source": [
    "! kubectl apply -f db\\mongodb-service.yaml\n",
    "! kubectl apply -f backend\\backend-service.yaml\n",
    "! kubectl apply -f backend\\service-loadbalancer.yaml\n",
    "! kubectl apply -f app\\app-loadbalancer.yaml"
   ],
   "metadata": {
    "collapsed": false,
    "ExecuteTime": {
     "end_time": "2024-02-04T21:58:24.397579Z",
     "start_time": "2024-02-04T21:58:23.282486Z"
    }
   },
   "id": "cd661187fcb4f974",
   "execution_count": 42
  },
  {
   "cell_type": "markdown",
   "source": [
    "Get network IPs. If EXTERNAL-IP is pending, please wait for a while and re-execute"
   ],
   "metadata": {
    "collapsed": false
   },
   "id": "ab157349d0696c83"
  },
  {
   "cell_type": "code",
   "outputs": [
    {
     "name": "stdout",
     "output_type": "stream",
     "text": [
      "NAME                   TYPE           CLUSTER-IP     EXTERNAL-IP     PORT(S)        AGE\n",
      "backend-service        ClusterIP      10.28.1.87     <none>          8000/TCP       69s\n",
      "kubernetes             ClusterIP      10.28.0.1      <none>          443/TCP        28h\n",
      "mongodb-service        ClusterIP      10.28.11.191   <none>          27017/TCP      70s\n",
      "service-loadbalancer   LoadBalancer   10.28.13.11    34.141.152.76   80:31105/TCP   69s\n",
      "webapp-loadbalancer    LoadBalancer   10.28.9.217    34.147.109.63   80:31788/TCP   69s\n"
     ]
    }
   ],
   "source": [
    "! kubectl get svc"
   ],
   "metadata": {
    "collapsed": false,
    "ExecuteTime": {
     "end_time": "2024-02-04T21:59:33.810011Z",
     "start_time": "2024-02-04T21:59:33.619251600Z"
    }
   },
   "id": "328b47f0f2040c49",
   "execution_count": 44
  },
  {
   "cell_type": "markdown",
   "source": [
    "Put EXTERNAL-IP of service-loadbalancer to app\\configmap-app.yaml\n",
    "Put Cluster-IP of mongodb-service to backend\\backend-config.yaml\n",
    "```YAML\n",
    "# app\\configmap-app.yaml\n",
    "apiVersion: v1\n",
    "kind: ConfigMap\n",
    "metadata:\n",
    "  name: server-address\n",
    "data:\n",
    "#  put the EXTERNAL-IP of serviceloadbalancer here\n",
    "  SERVER_URL: \"http://35.234.165.21\"\n",
    "```\n",
    "\n",
    "```YAML\n",
    "# backend\\backend-service.yaml\n",
    "apiVersion: v1\n",
    "kind: ConfigMap\n",
    "metadata:\n",
    "  name: backend-config\n",
    "data:\n",
    "# put the CLUSTER-IP of mongodb-service here\n",
    "  MONGO_URL: \"10.28.11.191\"\n",
    "```"
   ],
   "metadata": {
    "collapsed": false
   },
   "id": "ae360258b364eb1b"
  },
  {
   "cell_type": "markdown",
   "source": [
    "Secret and configMap"
   ],
   "metadata": {
    "collapsed": false
   },
   "id": "bf3520aa8c27115b"
  },
  {
   "cell_type": "code",
   "outputs": [
    {
     "name": "stdout",
     "output_type": "stream",
     "text": [
      "secret/webapp-registry-secret unchanged\n",
      "configmap/server-address configured\n",
      "secret/backend-secret unchanged\n",
      "configmap/backend-config unchanged\n",
      "secret/mongodb-secret unchanged\n",
      "configmap/mongodb-config unchanged\n"
     ]
    }
   ],
   "source": [
    "! kubectl apply -f app\\app-secret.yaml\n",
    "! kubectl apply -f app\\configmap-app.yaml\n",
    "! kubectl apply -f backend\\backend-secret.yaml\n",
    "! kubectl apply -f backend\\backend-config.yaml\n",
    "! kubectl apply -f db\\mongodb-secret.yaml\n",
    "! kubectl apply -f db\\mongodb-configmap.yaml"
   ],
   "metadata": {
    "collapsed": false,
    "ExecuteTime": {
     "end_time": "2024-02-04T21:59:59.321263100Z",
     "start_time": "2024-02-04T21:59:57.630064700Z"
    }
   },
   "id": "7352c8543f512b32",
   "execution_count": 45
  },
  {
   "cell_type": "markdown",
   "source": [
    "Deploy database"
   ],
   "metadata": {
    "collapsed": false
   },
   "id": "28c55e73b800dabc"
  },
  {
   "cell_type": "code",
   "outputs": [
    {
     "name": "stdout",
     "output_type": "stream",
     "text": [
      "deployment.apps/mongodb-deployment created\n"
     ]
    }
   ],
   "source": [
    "! kubectl apply -f db\\mongodb-deployment.yaml"
   ],
   "metadata": {
    "collapsed": false,
    "ExecuteTime": {
     "end_time": "2024-02-04T22:00:03.124180300Z",
     "start_time": "2024-02-04T22:00:02.844260200Z"
    }
   },
   "id": "be491e66adeb04",
   "execution_count": 46
  },
  {
   "cell_type": "markdown",
   "source": [
    "Set user/data to mongodb"
   ],
   "metadata": {
    "collapsed": false
   },
   "id": "ec6ff70fb5716575"
  },
  {
   "cell_type": "code",
   "outputs": [
    {
     "name": "stdout",
     "output_type": "stream",
     "text": [
      "NAME                                  READY   STATUS              RESTARTS   AGE\n",
      "mongodb-deployment-5b8bf7fbdf-tf2t4   0/1     ContainerCreating   0          2s\n"
     ]
    }
   ],
   "source": [
    "! kubectl get pods"
   ],
   "metadata": {
    "collapsed": false,
    "ExecuteTime": {
     "end_time": "2024-02-04T22:00:05.810895300Z",
     "start_time": "2024-02-04T22:00:05.604537400Z"
    }
   },
   "id": "43596ee6a09e568b",
   "execution_count": 47
  },
  {
   "cell_type": "markdown",
   "source": [
    "When the pod is running, go inside the pod and create database, set user and pass. The settings will be stored within persistence volume, so after manipulate pods, they remains."
   ],
   "metadata": {
    "collapsed": false
   },
   "id": "a4140c4bf3044bad"
  },
  {
   "cell_type": "markdown",
   "source": [
    "```BASE\n",
    "kubectl exec -it mongodb-deployment-5b8bf7fbdf-xp8zw -- bash\n",
    "```"
   ],
   "metadata": {
    "collapsed": false
   },
   "id": "3120148d85d5f4b3"
  },
  {
   "cell_type": "markdown",
   "source": [
    "```BASH\n",
    "mongosh\n",
    "```"
   ],
   "metadata": {
    "collapsed": false
   },
   "id": "249538d1cd4f1e91"
  },
  {
   "cell_type": "markdown",
   "source": [
    "```javascript\n",
    "use admin\n",
    "```\n",
    "```javascript\n",
    "db.createUser({\n",
    "  user: \"admin\",\n",
    "  pwd: \"pass\",\n",
    "  roles: [\"userAdminAnyDatabase\", \"readWriteAnyDatabase\"]\n",
    "})\n",
    "```\n",
    "```javascript\n",
    "db.auth(\"admin\", \"pass\")\n",
    "```"
   ],
   "metadata": {
    "collapsed": false
   },
   "id": "1d693b5c70a7d1aa"
  },
  {
   "cell_type": "markdown",
   "source": [
    "Deploy frontend and backend."
   ],
   "metadata": {
    "collapsed": false
   },
   "id": "443943da9402d560"
  },
  {
   "cell_type": "code",
   "outputs": [
    {
     "name": "stdout",
     "output_type": "stream",
     "text": [
      "deployment.apps/webapp-deployment created\n",
      "service/webapp-service created\n",
      "deployment.apps/backend-deployment created\n"
     ]
    }
   ],
   "source": [
    "! kubectl apply -f app\\app-deployment.yaml\n",
    "! kubectl apply -f backend\\backend-deployment.yaml"
   ],
   "metadata": {
    "collapsed": false,
    "ExecuteTime": {
     "end_time": "2024-02-04T22:00:09.618935200Z",
     "start_time": "2024-02-04T22:00:08.946879200Z"
    }
   },
   "id": "8360797f3a3b9e4f",
   "execution_count": 48
  },
  {
   "cell_type": "markdown",
   "source": [
    "Show services, get the EXTERNAL-IP of webapp-loadbalancer, open it on web."
   ],
   "metadata": {
    "collapsed": false
   },
   "id": "9313f1020d73c419"
  },
  {
   "cell_type": "code",
   "outputs": [
    {
     "name": "stdout",
     "output_type": "stream",
     "text": [
      "NAME                   TYPE           CLUSTER-IP     EXTERNAL-IP     PORT(S)          AGE\n",
      "backend-service        ClusterIP      10.28.1.87     <none>          8000/TCP         108s\n",
      "kubernetes             ClusterIP      10.28.0.1      <none>          443/TCP          28h\n",
      "mongodb-service        ClusterIP      10.28.11.191   <none>          27017/TCP        109s\n",
      "service-loadbalancer   LoadBalancer   10.28.13.11    34.141.152.76   80:31105/TCP     108s\n",
      "webapp-loadbalancer    LoadBalancer   10.28.9.217    34.147.109.63   80:31788/TCP     108s\n",
      "webapp-service         NodePort       10.28.14.56    <none>          5000:30100/TCP   3s\n"
     ]
    }
   ],
   "source": [
    "! kubectl get svc"
   ],
   "metadata": {
    "collapsed": false,
    "ExecuteTime": {
     "end_time": "2024-02-04T22:00:12.199621Z",
     "start_time": "2024-02-04T22:00:11.999441300Z"
    }
   },
   "id": "cb3e6bc29f11f60c",
   "execution_count": 49
  },
  {
   "cell_type": "markdown",
   "source": [
    "List all resources we have"
   ],
   "metadata": {
    "collapsed": false
   },
   "id": "e53a7d9e42aa7e2e"
  },
  {
   "cell_type": "code",
   "outputs": [
    {
     "name": "stdout",
     "output_type": "stream",
     "text": [
      "NAME                                      READY   STATUS    RESTARTS   AGE\n",
      "pod/backend-deployment-c9f84c788-6rqn8    1/1     Running   0          28m\n",
      "pod/mongodb-deployment-5b8bf7fbdf-tf2t4   1/1     Running   0          28m\n",
      "pod/webapp-deployment-c54966686-xh7f5     1/1     Running   0          28m\n",
      "\n",
      "NAME                           TYPE           CLUSTER-IP     EXTERNAL-IP     PORT(S)          AGE\n",
      "service/backend-service        ClusterIP      10.28.1.87     <none>          8000/TCP         30m\n",
      "service/kubernetes             ClusterIP      10.28.0.1      <none>          443/TCP          28h\n",
      "service/mongodb-service        ClusterIP      10.28.11.191   <none>          27017/TCP        30m\n",
      "service/service-loadbalancer   LoadBalancer   10.28.13.11    34.141.152.76   80:31105/TCP     30m\n",
      "service/webapp-loadbalancer    LoadBalancer   10.28.9.217    34.147.109.63   80:31788/TCP     30m\n",
      "service/webapp-service         NodePort       10.28.14.56    <none>          5000:30100/TCP   28m\n",
      "\n",
      "NAME                                 READY   UP-TO-DATE   AVAILABLE   AGE\n",
      "deployment.apps/backend-deployment   1/1     1            1           28m\n",
      "deployment.apps/mongodb-deployment   1/1     1            1           28m\n",
      "deployment.apps/webapp-deployment    1/1     1            1           28m\n",
      "\n",
      "NAME                                            DESIRED   CURRENT   READY   AGE\n",
      "replicaset.apps/backend-deployment-c9f84c788    1         1         1       28m\n",
      "replicaset.apps/mongodb-deployment-5b8bf7fbdf   1         1         1       28m\n",
      "replicaset.apps/webapp-deployment-c54966686     1         1         1       28m\n"
     ]
    }
   ],
   "source": [
    "! kubectl get all"
   ],
   "metadata": {
    "collapsed": false,
    "ExecuteTime": {
     "end_time": "2024-02-04T22:28:50.596169500Z",
     "start_time": "2024-02-04T22:28:50.080228100Z"
    }
   },
   "id": "1f24f0ec6820834",
   "execution_count": 50
  },
  {
   "cell_type": "markdown",
   "source": [
    "Delete deployment"
   ],
   "metadata": {
    "collapsed": false
   },
   "id": "2f3724e229b1e3b"
  },
  {
   "cell_type": "code",
   "outputs": [
    {
     "name": "stdout",
     "output_type": "stream",
     "text": [
      "deployment.apps \"mongodb-deployment\" deleted\n"
     ]
    },
    {
     "name": "stderr",
     "output_type": "stream",
     "text": [
      "Error from server (NotFound): deployments.apps \"backend-deployment\" not found\n",
      "Error from server (NotFound): deployments.apps \"webapp-deployment\" not found\n"
     ]
    }
   ],
   "source": [
    "! kubectl delete deployment mongodb-deployment\n",
    "! kubectl delete deployment backend-deployment\n",
    "! kubectl delete deployment webapp-deployment"
   ],
   "metadata": {
    "collapsed": false,
    "ExecuteTime": {
     "end_time": "2024-02-04T22:31:31.257802200Z",
     "start_time": "2024-02-04T22:31:30.695926700Z"
    }
   },
   "id": "db300f99132d2601",
   "execution_count": 52
  },
  {
   "cell_type": "markdown",
   "source": [
    "Delete services"
   ],
   "metadata": {
    "collapsed": false
   },
   "id": "83ccdd82fe096928"
  },
  {
   "cell_type": "code",
   "outputs": [
    {
     "name": "stderr",
     "output_type": "stream",
     "text": [
      "Error from server (NotFound): services \"mongodb-service\" not found\n",
      "Error from server (NotFound): services \"service-loadbalancer\" not found\n",
      "Error from server (NotFound): services \"webapp-loadbalancer\" not found\n",
      "Error from server (NotFound): services \"webapp-service\" not found\n"
     ]
    },
    {
     "name": "stdout",
     "output_type": "stream",
     "text": [
      "service \"backend-service\" deleted\n"
     ]
    }
   ],
   "source": [
    "! kubectl delete svc mongodb-service\n",
    "! kubectl delete svc service-loadbalancer\n",
    "! kubectl delete svc webapp-loadbalancer\n",
    "! kubectl delete svc webapp-service\n",
    "! kubectl delete svc backend-service"
   ],
   "metadata": {
    "collapsed": false,
    "ExecuteTime": {
     "end_time": "2024-02-04T22:33:06.405570900Z",
     "start_time": "2024-02-04T22:33:05.466558100Z"
    }
   },
   "id": "9f95ef748c102b22",
   "execution_count": 56
  },
  {
   "cell_type": "markdown",
   "source": [
    "Check resources"
   ],
   "metadata": {
    "collapsed": false
   },
   "id": "dbb4b0bfd00c8516"
  },
  {
   "cell_type": "code",
   "outputs": [
    {
     "name": "stdout",
     "output_type": "stream",
     "text": [
      "NAME                 TYPE        CLUSTER-IP   EXTERNAL-IP   PORT(S)   AGE\n",
      "service/kubernetes   ClusterIP   10.28.0.1    <none>        443/TCP   29h\n"
     ]
    }
   ],
   "source": [
    "! kubectl get all"
   ],
   "metadata": {
    "collapsed": false,
    "ExecuteTime": {
     "end_time": "2024-02-04T22:33:10.054808600Z",
     "start_time": "2024-02-04T22:33:09.756533100Z"
    }
   },
   "id": "8090a24d84bf4591",
   "execution_count": 57
  },
  {
   "cell_type": "code",
   "outputs": [],
   "source": [],
   "metadata": {
    "collapsed": false
   },
   "id": "cecb0072378c0c0e"
  }
 ],
 "metadata": {
  "kernelspec": {
   "display_name": "Python 3",
   "language": "python",
   "name": "python3"
  },
  "language_info": {
   "codemirror_mode": {
    "name": "ipython",
    "version": 2
   },
   "file_extension": ".py",
   "mimetype": "text/x-python",
   "name": "python",
   "nbconvert_exporter": "python",
   "pygments_lexer": "ipython2",
   "version": "2.7.6"
  }
 },
 "nbformat": 4,
 "nbformat_minor": 5
}
