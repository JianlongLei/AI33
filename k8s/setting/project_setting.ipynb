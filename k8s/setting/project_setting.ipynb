{
 "cells": [
  {
   "cell_type": "markdown",
   "source": [
    "Connect google cloud to local kubectl CLI"
   ],
   "metadata": {
    "collapsed": false
   },
   "id": "6ddd13e09b1625ac"
  },
  {
   "cell_type": "code",
   "outputs": [],
   "source": [
    "! gcloud container cluster get-credentials CLUSTER_NAME"
   ],
   "metadata": {
    "collapsed": false
   },
   "id": "f30faabfbd852b3d"
  },
  {
   "cell_type": "markdown",
   "source": [
    "Enable the Filestore CSI"
   ],
   "metadata": {
    "collapsed": false
   },
   "id": "9bb19bb833160425"
  },
  {
   "cell_type": "code",
   "execution_count": null,
   "id": "initial_id",
   "metadata": {
    "collapsed": true
   },
   "outputs": [],
   "source": [
    "! gcloud container clusters update CLUSTER_NAME --update-addons=GcpFilestoreCsiDriver=ENABLED"
   ]
  },
  {
   "cell_type": "markdown",
   "source": [
    "Set user/data to mongodb"
   ],
   "metadata": {
    "collapsed": false
   },
   "id": "ec6ff70fb5716575"
  },
  {
   "cell_type": "code",
   "outputs": [],
   "source": [
    "! kubectl get pods\n"
   ],
   "metadata": {
    "collapsed": false
   },
   "id": "43596ee6a09e568b"
  },
  {
   "cell_type": "code",
   "outputs": [],
   "source": [
    "! kubectl exec -it [mongodb-pod-name] -- bash\n"
   ],
   "metadata": {
    "collapsed": false
   },
   "id": "b7f04c89073b34c3"
  },
  {
   "cell_type": "code",
   "outputs": [],
   "source": [
    "! mongosh"
   ],
   "metadata": {
    "collapsed": false
   },
   "id": "6a720e017903ef72"
  },
  {
   "cell_type": "markdown",
   "source": [
    "```javascript\n",
    "use admin\n",
    "\n",
    "db.createUser({\n",
    "  user: \"admin\",\n",
    "  pwd: \"pass\",\n",
    "  roles: [\"userAdminAnyDatabase\", \"readWriteAnyDatabase\"]\n",
    "})\n",
    "\n",
    "db.auth(\"admin\", \"pass\")\n",
    "```\n",
    "\n"
   ],
   "metadata": {
    "collapsed": false
   },
   "id": "1d693b5c70a7d1aa"
  }
 ],
 "metadata": {
  "kernelspec": {
   "display_name": "Python 3",
   "language": "python",
   "name": "python3"
  },
  "language_info": {
   "codemirror_mode": {
    "name": "ipython",
    "version": 2
   },
   "file_extension": ".py",
   "mimetype": "text/x-python",
   "name": "python",
   "nbconvert_exporter": "python",
   "pygments_lexer": "ipython2",
   "version": "2.7.6"
  }
 },
 "nbformat": 4,
 "nbformat_minor": 5
}
