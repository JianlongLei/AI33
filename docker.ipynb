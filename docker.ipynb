{
 "cells": [
  {
   "cell_type": "code",
   "execution_count": 3,
   "id": "initial_id",
   "metadata": {
    "collapsed": true,
    "ExecuteTime": {
     "end_time": "2024-02-04T14:58:14.736460500Z",
     "start_time": "2024-02-04T14:58:03.869556600Z"
    }
   },
   "outputs": [
    {
     "name": "stderr",
     "output_type": "stream",
     "text": [
      "2024/02/04 15:58:04 http2: server: error reading preface from client //./pipe/docker_engine: file has already been closed\n",
      "#0 building with \"default\" instance using docker driver\n",
      "\n",
      "#1 [internal] load build definition from Dockerfile\n",
      "#1 transferring dockerfile: 655B done\n",
      "#1 DONE 0.0s\n",
      "\n",
      "#2 [auth] library/python:pull token for registry-1.docker.io\n",
      "#2 DONE 0.0s\n",
      "\n",
      "#3 [internal] load metadata for docker.io/library/python:3.8-slim-buster\n",
      "#3 DONE 0.9s\n",
      "\n",
      "#4 [internal] load .dockerignore\n",
      "#4 transferring context: 2B done\n",
      "#4 DONE 0.0s\n",
      "\n",
      "#5 [1/5] FROM docker.io/library/python:3.8-slim-buster@sha256:8799b0564103a9f36cfb8a8e1c562e11a9a6f2e3bb214e2adc23982b36a04511\n",
      "#5 DONE 0.0s\n",
      "\n",
      "#6 [internal] load build context\n",
      "#6 transferring context: 796B done\n",
      "#6 DONE 0.0s\n",
      "\n",
      "#7 [2/5] WORKDIR /app\n",
      "#7 CACHED\n",
      "\n",
      "#8 [3/5] COPY /app /app\n",
      "#8 CACHED\n",
      "\n",
      "#9 [4/5] RUN pip install --no-cache-dir -r requirements.txt\n",
      "#9 CACHED\n",
      "\n",
      "#10 [5/5] RUN pip install requests\n",
      "#10 CACHED\n",
      "\n",
      "#11 exporting to image\n",
      "#11 exporting layers done\n",
      "#11 writing image sha256:95a17d48b5a1f8170f337c1e42864c5c9459d1816fd50ea2ccd07088874db9cf done\n",
      "#11 naming to docker.io/library/ai33_front done\n",
      "#11 DONE 0.0s\n",
      "\n",
      "View build details: docker-desktop://dashboard/build/default/default/my76s7sv8rauq0t7jzv5dbfxi\n",
      "\n",
      "What's Next?\n",
      "  View a summary of image vulnerabilities and recommendations 鈫� docker scout quickview\n"
     ]
    },
    {
     "name": "stdout",
     "output_type": "stream",
     "text": [
      "The push refers to repository [docker.io/jalonray/ai33_front]\n",
      "1db786ee1718: Preparing\n",
      "4b038952512c: Preparing\n",
      "e1e10ac9c91f: Preparing\n",
      "5e35b481ba49: Preparing\n",
      "e6c5004ee77f: Preparing\n",
      "997b8e79e84f: Preparing\n",
      "3054512b6f71: Preparing\n",
      "ae2d55769c5e: Preparing\n",
      "e2ef8a51359d: Preparing\n",
      "997b8e79e84f: Waiting\n",
      "3054512b6f71: Waiting\n",
      "ae2d55769c5e: Waiting\n",
      "e2ef8a51359d: Waiting\n",
      "e6c5004ee77f: Mounted from library/python\n",
      "5e35b481ba49: Pushed\n",
      "997b8e79e84f: Mounted from library/python\n",
      "e1e10ac9c91f: Pushed\n",
      "1db786ee1718: Pushed\n",
      "3054512b6f71: Mounted from library/python\n",
      "ae2d55769c5e: Mounted from library/python\n",
      "4b038952512c: Pushed\n",
      "e2ef8a51359d: Mounted from library/python\n",
      "v100: digest: sha256:9a8376d0f522cad375f1cbcc243c6a6d93ba7f678b3934c120e93b2d2bef2e73 size: 2208\n"
     ]
    }
   ],
   "source": [
    "! docker build -t ai33_front .\n",
    "! docker tag ai33_front jalonray/ai33_front:v101\n",
    "! docker push jalonray/ai33_front:v101"
   ]
  }
 ],
 "metadata": {
  "kernelspec": {
   "display_name": "Python 3",
   "language": "python",
   "name": "python3"
  },
  "language_info": {
   "codemirror_mode": {
    "name": "ipython",
    "version": 2
   },
   "file_extension": ".py",
   "mimetype": "text/x-python",
   "name": "python",
   "nbconvert_exporter": "python",
   "pygments_lexer": "ipython2",
   "version": "2.7.6"
  }
 },
 "nbformat": 4,
 "nbformat_minor": 5
}
